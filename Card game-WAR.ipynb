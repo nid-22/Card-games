{
 "cells": [
  {
   "cell_type": "code",
   "execution_count": 148,
   "metadata": {},
   "outputs": [],
   "source": [
    "#lists of all cards\n",
    "\n",
    "suits=['Hearts', 'Diamonds', 'Spades', 'Clubs']\n",
    "ranks=['Two', 'Three', 'Four', 'Five', 'Six', 'Seven', 'Eight', 'Nine', 'Ten', 'Jack', 'Queen', 'King', 'Ace']\n",
    "values={'Two':2, 'Three':3, 'Four':4, 'Five':5, 'Six':6, 'Seven':7, 'Eight':8, \n",
    "      'Nine':9, 'Ten':10, 'Jack':11, 'Queen':12, 'King':13, 'Ace':14}"
   ]
  },
  {
   "cell_type": "markdown",
   "metadata": {},
   "source": [
    "CARD CLASS"
   ]
  },
  {
   "cell_type": "code",
   "execution_count": 149,
   "metadata": {},
   "outputs": [],
   "source": [
    "                                                               #create a class card with attributes suit and rank\n",
    "\n",
    "class card:\n",
    "    def __init__(self,suit,rank):\n",
    "                        \n",
    "        self.suit=suit\n",
    "        self.rank=rank\n",
    "        self.value=values[rank]\n",
    "      \n",
    "    def __str__(self):\n",
    "       return f\"{self.rank} of {self.suit}\""
   ]
  },
  {
   "cell_type": "code",
   "execution_count": 150,
   "metadata": {},
   "outputs": [],
   "source": [
    "                                                               #creating an instance of class card\n",
    "\n",
    "mycard=card(suit[0],rank[6])\n"
   ]
  },
  {
   "cell_type": "code",
   "execution_count": 151,
   "metadata": {},
   "outputs": [
    {
     "name": "stdout",
     "output_type": "stream",
     "text": [
      "Eight of Hearts\n"
     ]
    }
   ],
   "source": [
    "print(mycard)"
   ]
  },
  {
   "cell_type": "code",
   "execution_count": 152,
   "metadata": {},
   "outputs": [
    {
     "data": {
      "text/plain": [
       "8"
      ]
     },
     "execution_count": 152,
     "metadata": {},
     "output_type": "execute_result"
    }
   ],
   "source": [
    "mycard.value"
   ]
  },
  {
   "cell_type": "markdown",
   "metadata": {},
   "source": [
    "deck class- deal a card"
   ]
  },
  {
   "cell_type": "code",
   "execution_count": 153,
   "metadata": {},
   "outputs": [],
   "source": [
    "import random\n",
    "\n",
    "class deck:\n",
    "    def __init__(self):   \n",
    "        \n",
    "        self.all52_cards=[]\n",
    "        \n",
    "        #all combinations of suit list* rank list\n",
    "        \n",
    "        for suit in suits:\n",
    "            for rank in ranks:\n",
    "                                                                   #creating an object of card class\n",
    "                self.all52_cards.append(card(suit,rank))\n",
    "                \n",
    "    def shuffle(self):\n",
    "        random.shuffle(self.all52_cards)                      #shuffle before dealing a card                          \n",
    "              \n",
    "                \n",
    "    def deal_one(self):\n",
    "        return self.all52_cards.pop()\n",
    "            "
   ]
  },
  {
   "cell_type": "code",
   "execution_count": 154,
   "metadata": {},
   "outputs": [],
   "source": [
    "a_deck=deck()                                                     #instance of deck"
   ]
  },
  {
   "cell_type": "code",
   "execution_count": 155,
   "metadata": {},
   "outputs": [
    {
     "data": {
      "text/plain": [
       "<__main__.card at 0x169e60534c8>"
      ]
     },
     "execution_count": 155,
     "metadata": {},
     "output_type": "execute_result"
    }
   ],
   "source": [
    "a_deck.all52_cards[5]                                             #what is the 5th card"
   ]
  },
  {
   "cell_type": "code",
   "execution_count": 156,
   "metadata": {},
   "outputs": [
    {
     "name": "stdout",
     "output_type": "stream",
     "text": [
      "Seven of Hearts\n"
     ]
    }
   ],
   "source": [
    "print(a_deck.all52_cards[5])                                      #display the 5th card"
   ]
  },
  {
   "cell_type": "code",
   "execution_count": 157,
   "metadata": {},
   "outputs": [
    {
     "data": {
      "text/plain": [
       "7"
      ]
     },
     "execution_count": 157,
     "metadata": {},
     "output_type": "execute_result"
    }
   ],
   "source": [
    "a_deck.all52_cards[5].value"
   ]
  },
  {
   "cell_type": "code",
   "execution_count": 158,
   "metadata": {},
   "outputs": [],
   "source": [
    "class player:\n",
    "    def __init__(self,name):\n",
    "        \n",
    "    \n",
    "        self.name = name\n",
    "        self.playercards=[]\n",
    "    \n",
    "    def removeone(self):\n",
    "        return self.playercards.pop(0)                      #pop first card since new cards get added to end\n",
    "        \n",
    "    def addone(self,new_card):\n",
    "        if type(new_card)==type([]):                     #if new card is more than 1, its a list, use extend(), else append()\n",
    "            self.playercards.extend(new_card)\n",
    "        else:\n",
    "            \n",
    "            self.playercards.append(new_card)\n",
    "    def __str__(self):\n",
    "        return f' {self.name} has {len(self.playercards)}'\n",
    "    "
   ]
  },
  {
   "cell_type": "markdown",
   "metadata": {},
   "source": [
    "GAME"
   ]
  },
  {
   "cell_type": "code",
   "execution_count": 159,
   "metadata": {},
   "outputs": [],
   "source": [
    "player_one=player('one')\n",
    "player_two=player('two')"
   ]
  },
  {
   "cell_type": "code",
   "execution_count": 160,
   "metadata": {},
   "outputs": [],
   "source": [
    "a_deck=deck()  "
   ]
  },
  {
   "cell_type": "code",
   "execution_count": 161,
   "metadata": {},
   "outputs": [],
   "source": [
    "a_deck.shuffle()"
   ]
  },
  {
   "cell_type": "code",
   "execution_count": 162,
   "metadata": {},
   "outputs": [
    {
     "data": {
      "text/plain": [
       "52"
      ]
     },
     "execution_count": 162,
     "metadata": {},
     "output_type": "execute_result"
    }
   ],
   "source": [
    "len(a_deck.all52_cards)"
   ]
  },
  {
   "cell_type": "markdown",
   "metadata": {},
   "source": [
    "GAME LOGIC"
   ]
  },
  {
   "cell_type": "code",
   "execution_count": 163,
   "metadata": {},
   "outputs": [],
   "source": [
    "import pdb"
   ]
  },
  {
   "cell_type": "code",
   "execution_count": 164,
   "metadata": {},
   "outputs": [],
   "source": [
    "\n",
    "for num in range(26):\n",
    "    player_one.addone(a_deck.deal_one())\n",
    "    player_two.addone(a_deck.deal_one())\n"
   ]
  },
  {
   "cell_type": "code",
   "execution_count": 165,
   "metadata": {},
   "outputs": [
    {
     "data": {
      "text/plain": [
       "26"
      ]
     },
     "execution_count": 165,
     "metadata": {},
     "output_type": "execute_result"
    }
   ],
   "source": [
    "len(player_one.playercards)"
   ]
  },
  {
   "cell_type": "code",
   "execution_count": 166,
   "metadata": {},
   "outputs": [
    {
     "data": {
      "text/plain": [
       "6"
      ]
     },
     "execution_count": 166,
     "metadata": {},
     "output_type": "execute_result"
    }
   ],
   "source": [
    "player_one.playercards[-1].value"
   ]
  },
  {
   "cell_type": "code",
   "execution_count": 171,
   "metadata": {},
   "outputs": [
    {
     "name": "stdout",
     "output_type": "stream",
     "text": [
      "round no:1\n",
      "round no:2\n",
      "round no:3\n",
      "round no:4\n",
      "round no:5\n",
      "round no:6\n",
      "round no:7\n",
      "round no:8\n",
      "round no:9\n",
      "round no:10\n",
      "round no:11\n",
      "round no:12\n",
      "round no:13\n",
      "round no:14\n",
      "round no:15\n",
      "round no:16\n",
      "round no:17\n",
      "round no:18\n",
      "round no:19\n",
      "round no:20\n",
      "round no:21\n",
      "round no:22\n",
      "round no:23\n",
      "round no:24\n",
      "round no:25\n",
      "round no:26\n",
      "round no:27\n",
      "round no:28\n",
      "round no:29\n",
      "round no:30\n",
      "round no:31\n",
      "round no:32\n",
      "round no:33\n",
      "round no:34\n",
      "round no:35\n",
      "round no:36\n",
      "round no:37\n",
      "round no:38\n",
      "round no:39\n",
      "round no:40\n",
      "round no:41\n",
      "round no:42\n",
      "round no:43\n",
      "WAR!\n",
      "player one has no more cards, player two is the winner\n"
     ]
    }
   ],
   "source": [
    "game_on=True\n",
    "\n",
    "roundno=0\n",
    "\n",
    "while game_on:\n",
    "    roundno+=1\n",
    "    print(f'round no:{ roundno}')\n",
    "    \n",
    "    if player_one.playercards==[]:\n",
    "        game_on=False\n",
    "        print('No cards left, player 2 has won')\n",
    "        break\n",
    "    elif player_two.playercards==[]:\n",
    "        game_on=False\n",
    "        print('No cards left, player 1 has won')\n",
    "        break\n",
    "        \n",
    "    playerone_dealing=[]\n",
    "    playertwo_dealing=[]\n",
    "    \n",
    "    playerone_dealing.append(player_one.removeone())\n",
    "    playertwo_dealing.append(player_two.removeone())\n",
    "    \n",
    "    at_war=True    \n",
    "    \n",
    "    while at_war:\n",
    "        if playerone_dealing[-1].value > playertwo_dealing[-1].value:\n",
    "        \n",
    "            player_one.addone(playertwo_dealing)  \n",
    "            player_one.addone(playerone_dealing)\n",
    "        \n",
    "            at_war=False\n",
    "        \n",
    "        elif playerone_dealing[-1].value < playertwo_dealing[-1].value:\n",
    "            \n",
    "            player_two.addone(playerone_dealing) \n",
    "            player_two.addone(playertwo_dealing)\n",
    "            \n",
    "        \n",
    "            at_war=False\n",
    "        \n",
    "        else:\n",
    "            \n",
    "            print('WAR!')\n",
    "            if len(playerone_dealing)<5:\n",
    "                print('player one has no more cards, player two is the winner')\n",
    "                game_on=False\n",
    "                break\n",
    "                \n",
    "            elif len(playertwo_dealing)<5:\n",
    "                print('player two has no more cards, player one is the winner')\n",
    "                game_on=False\n",
    "                break\n",
    "                \n",
    "            for num in range(5):\n",
    "                playerone_dealing.append(player_one.removeone())\n",
    "                playertwo_dealing.append(player_two.removeone())\n",
    "        \n",
    "        "
   ]
  },
  {
   "cell_type": "code",
   "execution_count": 140,
   "metadata": {},
   "outputs": [],
   "source": []
  },
  {
   "cell_type": "code",
   "execution_count": null,
   "metadata": {},
   "outputs": [],
   "source": []
  }
 ],
 "metadata": {
  "kernelspec": {
   "display_name": "Python 3",
   "language": "python",
   "name": "python3"
  },
  "language_info": {
   "codemirror_mode": {
    "name": "ipython",
    "version": 3
   },
   "file_extension": ".py",
   "mimetype": "text/x-python",
   "name": "python",
   "nbconvert_exporter": "python",
   "pygments_lexer": "ipython3",
   "version": "3.7.6"
  }
 },
 "nbformat": 4,
 "nbformat_minor": 4
}
